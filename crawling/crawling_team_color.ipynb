{
 "cells": [
  {
   "cell_type": "markdown",
   "metadata": {
    "id": "DOuL_vkiXDNe"
   },
   "source": [
    "# 0. selenium 설치"
   ]
  },
  {
   "cell_type": "code",
   "execution_count": null,
   "metadata": {
    "id": "-gI9vEtqFN-p"
   },
   "outputs": [],
   "source": [
    "!pip install chromedriver_autoinstaller"
   ]
  },
  {
   "cell_type": "code",
   "execution_count": null,
   "metadata": {},
   "outputs": [],
   "source": [
    "!pip install selenium"
   ]
  },
  {
   "cell_type": "markdown",
   "metadata": {
    "id": "tW1J0fafRFh-"
   },
   "source": [
    "# 1. 라이브러리 불러오기"
   ]
  },
  {
   "cell_type": "code",
   "execution_count": 1,
   "metadata": {
    "colab": {
     "base_uri": "https://localhost:8080/"
    },
    "executionInfo": {
     "elapsed": 12,
     "status": "ok",
     "timestamp": 1668149039379,
     "user": {
      "displayName": "닉넴결정장애",
      "userId": "01530516573951758103"
     },
     "user_tz": -540
    },
    "id": "HRecFu-uYsTV",
    "outputId": "c6318b9a-4cec-4503-d07f-4addf6f0cc84"
   },
   "outputs": [],
   "source": [
    "import numpy as np\n",
    "import pandas as pd\n",
    "import requests # 크롤링에 사용하는 패키지\n",
    "from bs4 import BeautifulSoup # html 변환에 사용함\n",
    "\n",
    "\n",
    "from selenium import webdriver\n",
    "from selenium.webdriver.common.alert import Alert\n",
    "from selenium.webdriver.common.keys import Keys\n",
    "from selenium.webdriver import ActionChains as AC\n",
    "\n",
    "import chromedriver_autoinstaller\n",
    "\n",
    "# tqdm : for문 진행상황 체크\n",
    "from tqdm import tqdm, tqdm_notebook\n",
    "from tqdm.notebook import tqdm\n",
    "\n",
    "\n",
    "# 정규표현식(regular expression) : 문자(알파벳,한글), 숫자, 특수기호 정제 및 추출\n",
    "import re\n",
    "from time import sleep\n",
    "import time\n",
    "\n",
    "\n",
    "# 워닝 무시\n",
    "import warnings\n",
    "warnings.filterwarnings('ignore')"
   ]
  },
  {
   "cell_type": "markdown",
   "metadata": {
    "id": "Lmcte0tMRFiA"
   },
   "source": [
    "# 2. 팀 컬러 크롤링"
   ]
  },
  {
   "cell_type": "markdown",
   "metadata": {},
   "source": [
    "- 팀 컬러 명\n",
    "- 단계\n",
    "- 적용 효과\n",
    "\n",
    "*특성 팀 컬러의 경우'적용 선수' 추가"
   ]
  },
  {
   "cell_type": "code",
   "execution_count": 2,
   "metadata": {},
   "outputs": [],
   "source": [
    "# 크롬 윈도우 설정\n",
    "def open_chrome():\n",
    "    # 크롬 드라이버 위치 설정\n",
    "    chrome_path = chromedriver_autoinstaller.install()\n",
    "\n",
    "\n",
    "    # 크롬 옵션\n",
    "    options = webdriver.ChromeOptions()\n",
    "    # 크롬 윈도우 사이즈 조절\n",
    "    options.add_argument(\"--window-size=800,1400\")\n",
    "\n",
    "    driver = webdriver.Chrome(chrome_path, options=options)\n",
    "\n",
    "    # 실행할 시간 랜덤값 지정\n",
    "    A = np.random.randint(1,3)\n",
    "    \n",
    "    return driver , A"
   ]
  },
  {
   "cell_type": "markdown",
   "metadata": {},
   "source": [
    "##### 참고\n"
   ]
  },
  {
   "cell_type": "markdown",
   "metadata": {},
   "source": [
    "- find_elements_by_tag_name:          Copy Element의 tag\n",
    "- find_elements_by_xpath:             Copy XPath 또는 Copy full XPath\n",
    "- find_elements_by_id:                Copy Element의 id attribute\n",
    "- find_elements_by_class_name:        Copy Element의 class attribute\n",
    "- find_elements_by_link_text:         Copy Element의 text\n",
    "- find_elements_by_partial_link_text: Copy Element의 text중 일부\n",
    "- find_elements_by_css_selector:      Copy selector\n",
    "\n",
    "\n",
    "- '요소' 클릭:        \t.click('')   \n",
    "- '요소' 더블 클릭:\t     .double_click('')   \n",
    "- '텍스트' 입력:\t         .send_keys('')  \n",
    "- '요소'에 '텍스트' 입력:\t  .send_keys_to_element('','')  \n",
    "- '요소'로 마우스 이동:\t  .move_to_element('')\n",
    "- 스크롤 내리기:\t         .execute_script(\"window.scrollto();\")\n",
    "- 실행:                  .perform()"
   ]
  },
  {
   "cell_type": "markdown",
   "metadata": {},
   "source": [
    "### 2-1. 팀 컬러 목록 part"
   ]
  },
  {
   "cell_type": "code",
   "execution_count": 6,
   "metadata": {},
   "outputs": [
    {
     "data": {
      "application/vnd.jupyter.widget-view+json": {
       "model_id": "540f25adae574fa3902605c9e4bdbde5",
       "version_major": 2,
       "version_minor": 0
      },
      "text/plain": [
       "  0%|          | 0/5 [00:00<?, ?it/s]"
      ]
     },
     "metadata": {},
     "output_type": "display_data"
    }
   ],
   "source": [
    "# chrome 창 열기\n",
    "driver, A = open_chrome()\n",
    "\n",
    "## 팀 컬러 목록 크롤링\n",
    "# 팀 컬러 타입 리스트\n",
    "teamcolor_club = []\n",
    "teamcolor_nation = []\n",
    "teamcolor_reinforce = []\n",
    "teamcolor_relation = []\n",
    "teamcolor_special =[]\n",
    "\n",
    "# 팀 컬러 정보 목록 크롤링 파트 함수\n",
    "def TC_list_crawling():\n",
    "    driver.find_element_by_class_name('btn_search').click()\n",
    "    time.sleep(A)\n",
    "\n",
    "    locates = 'div.name'\n",
    "    elements = driver.find_elements_by_css_selector(locates)\n",
    "    \n",
    "    return elements\n",
    "\n",
    "\n",
    "\n",
    "# 홈페이지 열기\n",
    "url = 'https://fifaonline4.nexon.com/datacenter/teamcolor?strTeamColorCategory=&strTeamColorType=&strTeamColorName='\n",
    "driver.get(url)\n",
    "time.sleep(A)\n",
    "\n",
    "\n",
    "# 팝업창 닫기 (팝업창 오류 시 사용)\n",
    "driver.find_element_by_xpath('//*[@id=\"wrapper\"]/div[1]/a/span').click()\n",
    "time.sleep(A)\n",
    "\n",
    "# 팀 컬러 정보 목록 저장\n",
    "for x in tqdm(range(2,7)):\n",
    "        driver.find_element_by_xpath(f'//*[@id=\"sForm\"]/div[3]/div[2]/div[2]/div/div/div[{x}]/label').click()\n",
    "        time.sleep(A)\n",
    "        \n",
    "        elements = TC_list_crawling()\n",
    "\n",
    "        ## 클럽\n",
    "        if x == 2:\n",
    "                for element in elements:\n",
    "                        teamcolor_club.append(element.text)\n",
    "                \n",
    "        elif x == 3:\n",
    "                for element in elements:\n",
    "                        teamcolor_nation.append(element.text)\n",
    "        \n",
    "        elif x == 4:\n",
    "                for element in elements:\n",
    "                        teamcolor_reinforce.append(element.text)\n",
    "                        \n",
    "        elif x == 5:\n",
    "                for element in elements:\n",
    "                        teamcolor_relation.append(element.text)\n",
    "                        \n",
    "        elif x == 6:\n",
    "                for element in elements:\n",
    "                        teamcolor_special.append(element.text)\n",
    "        \n",
    "        else:\n",
    "                print('not in range')\n",
    "        \n",
    "        driver.find_element_by_class_name('btn_reset').click()\n",
    "        time.sleep(A)\n",
    "        "
   ]
  },
  {
   "cell_type": "code",
   "execution_count": 7,
   "metadata": {},
   "outputs": [],
   "source": [
    "# 팀 컬러 목록 데이터 프레임 저장\n",
    "TC_club = pd.DataFrame(data = teamcolor_club, columns = ['team color'])\n",
    "TC_nation = pd.DataFrame(data = teamcolor_nation, columns = ['team color'])\n",
    "TC_reinforce = pd.DataFrame(data = teamcolor_reinforce, columns = ['team color'])\n",
    "TC_relation = pd.DataFrame(data = teamcolor_relation, columns = ['team color'])\n",
    "TC_special = pd.DataFrame(data = teamcolor_special, columns = ['team color'])\n",
    "\n",
    "# # csv로 파일 저장\n",
    "# TC_club.to_csv(\"TC_club.csv\", encoding='utf-8-sig', index = False)\n",
    "# TC_nation.to_csv(\"TC_nation.csv\", encoding='utf-8-sig', index = False)\n",
    "# TC_reinforce.to_csv(\"TC_reinforce.csv\", encoding='utf-8-sig', index = False)\n",
    "# TC_relation.to_csv(\"TC_relation.csv\", encoding='utf-8-sig', index = False)\n",
    "# TC_special.to_csv(\"TC_special.csv\", encoding='utf-8-sig', index = False)\n"
   ]
  },
  {
   "cell_type": "markdown",
   "metadata": {},
   "source": [
    "### 2-2. 팀 컬러 세부 사항 part"
   ]
  },
  {
   "cell_type": "code",
   "execution_count": 5,
   "metadata": {},
   "outputs": [],
   "source": [
    "# csv 파일 불러오기\n",
    "TC_club = pd.read_csv('./data/team_color_list/TC_club.csv')\n",
    "TC_nation = pd.read_csv('./data/team_color_list/TC_nation.csv')\n",
    "TC_reinforce = pd.read_csv('./data/team_color_list/TC_reinforce.csv')\n",
    "TC_relation = pd.read_csv('./data/team_color_list/TC_relation.csv')\n",
    "TC_special = pd.read_csv('./data/team_color_list/TC_special.csv')\n",
    "\n",
    "# 다시 리스트 형식으로 변경\n",
    "teamcolor_club = TC_club['team color']\n",
    "teamcolor_nation = TC_nation['team color']\n",
    "teamcolor_reinforce = TC_reinforce['team color']\n",
    "teamcolor_relation = TC_relation['team color']\n",
    "teamcolor_special = TC_special['team color']\n",
    "\n",
    "# 팀 컬러 타입 모음\n",
    "teamcolor_type = [teamcolor_club,teamcolor_nation,teamcolor_reinforce,teamcolor_relation,teamcolor_special]"
   ]
  },
  {
   "cell_type": "code",
   "execution_count": 6,
   "metadata": {},
   "outputs": [],
   "source": [
    "# css selector 위치 입력기\n",
    "def location_inputor(num,type):\n",
    "    if type == 'div':\n",
    "        temp_1 = driver.find_element_by_css_selector('div > div.lv_content > div.desc').text\n",
    "        temp_2 = driver.find_element_by_css_selector('div > div.lv_content > div.ap_list').text\n",
    "        temp_2 = temp_2.replace('\\n',' / ').replace('-','')\n",
    "        \n",
    "    elif type == 'div.level.lvu':\n",
    "        temp_1 = driver.find_element_by_css_selector(f'div.level.lvu{num} > div.lv_content > div.desc').text\n",
    "        temp_2 = driver.find_element_by_css_selector(f'div.level.lvu{num} > div.lv_content > div.ap_list').text\n",
    "        temp_2 = temp_2.replace('\\n',' / ').replace('-','')\n",
    "        \n",
    "    elif type == 'div.level.lv':    \n",
    "        temp_1 = driver.find_element_by_css_selector(f'div.level.lv{num} > div.lv_content > div.desc').text\n",
    "        temp_2 = driver.find_element_by_css_selector(f'div.level.lv{num} > div.lv_content > div.ap_list').text\n",
    "        temp_2 = temp_2.replace('\\n',' / ').replace('-','')\n",
    "        \n",
    "    return temp_1, temp_2"
   ]
  },
  {
   "cell_type": "code",
   "execution_count": 55,
   "metadata": {},
   "outputs": [
    {
     "data": {
      "application/vnd.jupyter.widget-view+json": {
       "model_id": "da764efeceb0409d978f40d71d211fa2",
       "version_major": 2,
       "version_minor": 0
      },
      "text/plain": [
       "  0%|          | 0/3 [00:00<?, ?it/s]"
      ]
     },
     "metadata": {},
     "output_type": "display_data"
    },
    {
     "data": {
      "application/vnd.jupyter.widget-view+json": {
       "model_id": "12a7c582c7724557af2cf63c42f1f979",
       "version_major": 2,
       "version_minor": 0
      },
      "text/plain": [
       "  0%|          | 0/3 [00:00<?, ?it/s]"
      ]
     },
     "metadata": {},
     "output_type": "display_data"
    },
    {
     "data": {
      "application/vnd.jupyter.widget-view+json": {
       "model_id": "85bdc98c702e48a3aafdec9bfeda6587",
       "version_major": 2,
       "version_minor": 0
      },
      "text/plain": [
       "  0%|          | 0/206 [00:00<?, ?it/s]"
      ]
     },
     "metadata": {},
     "output_type": "display_data"
    },
    {
     "data": {
      "application/vnd.jupyter.widget-view+json": {
       "model_id": "4276c47436f24d0596a80f2f4dfcc094",
       "version_major": 2,
       "version_minor": 0
      },
      "text/plain": [
       "  0%|          | 0/8 [00:00<?, ?it/s]"
      ]
     },
     "metadata": {},
     "output_type": "display_data"
    }
   ],
   "source": [
    "# chrome 창 열기\n",
    "driver, A = open_chrome()\n",
    "\n",
    "\n",
    "## 팀 컬러 타입 별 적용 조건 & 효과 저장\n",
    "# 홈페이지 열기\n",
    "url = 'https://fifaonline4.nexon.com/datacenter/teamcolor?strTeamColorCategory=&strTeamColorType=&strTeamColorName='\n",
    "driver.get(url)\n",
    "\n",
    "count = 0\n",
    "\n",
    "for teamcolors in tqdm(teamcolor_type):\n",
    "   # 크롤링한 결과를 저장할 리스트\n",
    "   teamcolor_info = []\n",
    "   step_1_require_player_nums = []\n",
    "   step_2_require_player_nums = []\n",
    "   step_3_require_player_nums = []\n",
    "   step_4_require_player_nums = []\n",
    "   step_1_effects = []\n",
    "   step_2_effects = []\n",
    "   step_3_effects = []\n",
    "   step_4_effects = []\n",
    "   \n",
    "   for x in tqdm(teamcolors):\n",
    "      # # 팝업창 닫기\n",
    "      # driver.find_element_by_xpath('//*[@id=\"wrapper\"]/div[1]/a/span').click()\n",
    "      # time.sleep(A)\n",
    "      try:\n",
    "         \n",
    "         # 팀 컬러 타입 선택\n",
    "         if teamcolors == teamcolor_club:\n",
    "            driver.find_element_by_xpath('//*[@id=\"sForm\"]/div[3]/div[2]/div[2]/div/div/div[2]/label').click()\n",
    "         elif teamcolors == teamcolor_nation:\n",
    "            driver.find_element_by_xpath('//*[@id=\"sForm\"]/div[3]/div[2]/div[2]/div/div/div[3]/label').click() \n",
    "         elif teamcolors == teamcolor_reinforce:\n",
    "            driver.find_element_by_xpath('//*[@id=\"sForm\"]/div[3]/div[2]/div[2]/div/div/div[4]/label').click()\n",
    "         elif teamcolors == teamcolor_relation:\n",
    "            driver.find_element_by_xpath('//*[@id=\"sForm\"]/div[3]/div[2]/div[2]/div/div/div[5]/label').click() \n",
    "         elif teamcolors == teamcolor_special:\n",
    "            driver.find_element_by_xpath('//*[@id=\"sForm\"]/div[3]/div[2]/div[2]/div/div/div[6]/label').click()  \n",
    "         \n",
    "         time.sleep(1)\n",
    "         \n",
    "         \n",
    "         # 팀 컬러 입력 & 검색\n",
    "         driver.find_element_by_class_name('ui-autocomplete-input').click()\n",
    "         driver.find_element_by_class_name('ui-autocomplete-input').send_keys(x)\n",
    "         driver.find_element_by_class_name('btn_search').click()\n",
    "         time.sleep(A)\n",
    "         \n",
    "         \n",
    "         # 단계 추출 (for 문 돌릴 갯수 정하기 용도)\n",
    "         number = driver.find_element_by_css_selector('div.teamcolor_item_list > div > div.level').text\n",
    "         number = int(number.replace('단계',''))\n",
    "\n",
    "\n",
    "         # 세부 설명 들어가기\n",
    "         driver.find_element_by_class_name('name').click()\n",
    "         driver.find_element_by_class_name('btn_detail_link').click()\n",
    "         time.sleep(A) \n",
    "\n",
    "\n",
    "         # 팀 컬러 설명 저장\n",
    "         info = driver.find_element_by_css_selector('#teamcolorPop > div > div.header > div > span').text\n",
    "         teamcolor_info.append(info)\n",
    "         time.sleep(1)\n",
    "         \n",
    "         \n",
    "         \n",
    "         # 단계 별 적용 조건 & 적용 효과 저장\n",
    "         for num in range(1,5):\n",
    "            # 1단계\n",
    "            if num == 1:\n",
    "               if number == 1:\n",
    "                  # 'num'과 아래의 타입 중 하나를 골라서 넣으세요!\n",
    "                  # type = 'div', 'div.level.lvu', 'div.level.lv'\n",
    "                  temp_1, temp_2 = location_inputor(num,'div')\n",
    "                  \n",
    "                  step_1_require_player_nums.append(temp_1)\n",
    "                  step_1_effects.append(temp_2)\n",
    "                  \n",
    "               elif number > 1:   \n",
    "                  if teamcolors == teamcolor_reinforce:\n",
    "                     temp_1, temp_2 = location_inputor(num,'div.level.lvu')\n",
    "                  \n",
    "                  elif teamcolors != teamcolor_reinforce:\n",
    "                     temp_1, temp_2 = location_inputor(num,'div.level.lv')\n",
    "               \n",
    "                  step_1_require_player_nums.append(temp_1)\n",
    "                  step_1_effects.append(temp_2)\n",
    "               else:\n",
    "                  step_1_require_player_nums.append('-')\n",
    "                  step_1_effects.append('-') \n",
    "\n",
    "            # 2단계\n",
    "            elif num == 2:\n",
    "               if num <= number:\n",
    "                  if teamcolors == teamcolor_reinforce:\n",
    "                     temp_1, temp_2 = location_inputor(num,'div.level.lvu')\n",
    "                  \n",
    "                  elif teamcolors != teamcolor_reinforce:\n",
    "                     temp_1, temp_2 = location_inputor(num,'div.level.lv')\n",
    "                  \n",
    "                  step_2_require_player_nums.append(temp_1)\n",
    "                  step_2_effects.append(temp_2)\n",
    "                  \n",
    "               else:\n",
    "                  step_2_require_player_nums.append('-')\n",
    "                  step_2_effects.append('-') \n",
    "               \n",
    "            # 3단계\n",
    "            elif num == 3:\n",
    "               if num <= number:\n",
    "                  if teamcolors == teamcolor_reinforce:\n",
    "                     temp_1, temp_2 = location_inputor(num,'div.level.lvu')\n",
    "                  \n",
    "                  elif teamcolors != teamcolor_reinforce:\n",
    "                     temp_1, temp_2 = location_inputor(num,'div.level.lv')\n",
    "                  \n",
    "                  step_3_require_player_nums.append(temp_1)\n",
    "                  step_3_effects.append(temp_2)\n",
    "                  \n",
    "               else:\n",
    "                  step_3_require_player_nums.append('-')\n",
    "                  step_3_effects.append('-') \n",
    "\n",
    "            # 4단계\n",
    "            elif num == 4:\n",
    "               if num <= number:\n",
    "                  if teamcolors == teamcolor_reinforce:\n",
    "                     temp_1, temp_2 = location_inputor(num,'div.level.lvu')\n",
    "                  \n",
    "                  elif teamcolors != teamcolor_reinforce:\n",
    "                     temp_1, temp_2 = location_inputor(num,'div.level.lv')\n",
    "                  \n",
    "                  step_4_require_player_nums.append(temp_1)\n",
    "                  step_4_effects.append(temp_2)\n",
    "                  \n",
    "               else:\n",
    "                  step_4_require_player_nums.append('-')\n",
    "                  step_4_effects.append('-') \n",
    "\n",
    "            else:\n",
    "               print('error')\n",
    "               \n",
    "            time.sleep(1)\n",
    "            \n",
    "         # 세부 설명 나오기\n",
    "         driver.find_element_by_class_name('btn_close').click()\n",
    "         time.sleep(1)\n",
    "\n",
    "         # 검색어 초기화 \n",
    "         driver.find_element_by_class_name('btn_reset').click()\n",
    "         time.sleep(1)\n",
    "      \n",
    "      except:\n",
    "         print('error: 팀 컬러 선택 & 상세 정보 클릭')\n",
    "         break\n",
    "      \n",
    "   \n",
    "   \n",
    "   ## 팀 컬러 하나 완료하면 csv로 저장            \n",
    "   # dict로 변형 & 데이터 프레임화\n",
    "   dict_temp = {  '팀 컬러': [val for val in teamcolors],\n",
    "                  '팀 컬러 설명': [val for val in teamcolor_info],             \n",
    "                  '1단계 적용 조건': [val for val in step_1_require_player_nums],\n",
    "                  '2단계 적용 조건': [val for val in step_2_require_player_nums],\n",
    "                  '3단계 적용 조건': [val for val in step_3_require_player_nums],\n",
    "                  '4단계 적용 조건': [val for val in step_4_require_player_nums],\n",
    "                  '1단계 효과': [val for val in step_1_effects], \n",
    "                  '2단계 효과': [val for val in step_2_effects],\n",
    "                  '3단계 효과': [val for val in step_3_effects],\n",
    "                  '4단계 효과': [val for val in step_4_effects]\n",
    "   }\n",
    "   columns = ['팀 컬러','팀 컬러 설명','1단계 적용 조건','2단계 적용 조건','3단계 적용 조건','4단계 적용 조건','1단계 효과','2단계 효과','3단계 효과','4단계 효과']\n",
    "   \n",
    "   teamcolor_naming = ['클럽_팀_컬러','국가_팀_컬러','강화_팀_컬러','관계_팀_컬러','스페셜_팀_컬러']\n",
    "\n",
    "   globals()[f'df_{teamcolor_naming[count]}'] = pd.DataFrame(data = dict_temp, columns=columns)\n",
    "   count += 1\n",
    "   \n",
    "   time.sleep(A)"
   ]
  },
  {
   "cell_type": "code",
   "execution_count": null,
   "metadata": {},
   "outputs": [],
   "source": [
    "## 데이터 확인  \n",
    "# df_클럽_팀_컬러\n",
    "# df_국가_팀_컬러\n",
    "# df_강화_팀_컬러\n",
    "# df_관계_팀_컬러\n",
    "# df_스페셜_팀_컬러"
   ]
  },
  {
   "cell_type": "code",
   "execution_count": 60,
   "metadata": {},
   "outputs": [],
   "source": [
    "## csv파일로 저장\n",
    "# df_클럽_팀_컬러.to_csv('클럽팀컬러.csv', encoding='utf-8-sig', index = False)\n",
    "# df_국가_팀_컬러.to_csv('국가팀컬러.csv', encoding='utf-8-sig', index = False)\n",
    "# df_강화_팀_컬러.to_csv('강화팀컬러.csv', encoding='utf-8-sig', index = False)\n",
    "# df_관계_팀_컬러.to_csv('관계팀컬러.csv', encoding='utf-8-sig', index = False)\n",
    "# df_스페셜_팀_컬러.to_csv('스페셜팀컬러.csv', encoding='utf-8-sig', index = False)\n"
   ]
  },
  {
   "cell_type": "markdown",
   "metadata": {},
   "source": [
    "### 2-3. 관계 팀 컬러 - 선수 목록 part"
   ]
  },
  {
   "cell_type": "code",
   "execution_count": 42,
   "metadata": {},
   "outputs": [
    {
     "data": {
      "application/vnd.jupyter.widget-view+json": {
       "model_id": "3afa02bcb7b341c08fd53733187707f2",
       "version_major": 2,
       "version_minor": 0
      },
      "text/plain": [
       "  0%|          | 0/206 [00:00<?, ?it/s]"
      ]
     },
     "metadata": {},
     "output_type": "display_data"
    }
   ],
   "source": [
    "# chrome 창 열기\n",
    "driver, A = open_chrome()\n",
    "\n",
    "\n",
    "## 관계 팀 컬러 선수 시즌 & 이름 크롤링\n",
    "# 팀컬러 기준을 만족하는 선수 리스트\n",
    "TC_relation_plus = []\n",
    "\n",
    "# 홈페이지 열기\n",
    "url = 'https://fifaonline4.nexon.com/datacenter/teamcolor?strTeamColorCategory=&strTeamColorType=&strTeamColorName='\n",
    "driver.get(url)\n",
    "\n",
    "# # 팝업창 닫기\n",
    "# driver.find_element_by_xpath('//*[@id=\"wrapper\"]/div[1]/a/span').click()\n",
    "# time.sleep(A)\n",
    "\n",
    "for x in tqdm(teamcolor_relation):\n",
    "   \n",
    "   try:\n",
    "      # 팀 컬러 타입 선택\n",
    "      driver.find_element_by_xpath('//*[@id=\"sForm\"]/div[3]/div[2]/div[2]/div/div/div[5]/label').click() \n",
    "      time.sleep(1)\n",
    "      \n",
    "\n",
    "      # 팀 컬러 입력 & 검색\n",
    "      driver.find_element_by_class_name('ui-autocomplete-input').click()\n",
    "      driver.find_element_by_class_name('ui-autocomplete-input').send_keys(x)\n",
    "      driver.find_element_by_class_name('btn_search').click()\n",
    "      time.sleep(A)\n",
    "\n",
    "\n",
    "      # 세부 설명 들어가기\n",
    "      driver.find_element_by_class_name('name').click()\n",
    "      driver.find_element_by_class_name('btn_detail_link').click()\n",
    "      time.sleep(A) \n",
    "      \n",
    "      \n",
    "      # 조건 만족하는 선수 숫자 세기\n",
    "      player_list = driver.find_elements_by_xpath('//*[@id=\"ulPlayerList\"]')\n",
    "      player_list_num = int(player_list[0].text.count('BP'))\n",
    "\n",
    "      # 팀 컬러 하나의 선수 목록을 저장할 리스트\n",
    "      temp_TC_relation_plus =[]\n",
    "      \n",
    "      # 시즌 & 선수명 추출\n",
    "      for num in range(1,player_list_num+1):         \n",
    "         season_temp = driver.find_element_by_xpath(f'//*[@id=\"ulPlayerList\"]/li[{num}]/div[1]/div[3]/div[1]/img')\n",
    "         player_temp = driver.find_element_by_xpath(f'//*[@id=\"ulPlayerList\"]/li[{num}]/div[1]/div[3]/div[2]')\n",
    "         season = season_temp.get_attribute('src').split('/')[-1].replace('.png','')\n",
    "         player = player_temp.text\n",
    "\n",
    "         # 시즌 & 선수명 합치기\n",
    "         total_temp = season+' '+player\n",
    "         temp_TC_relation_plus.append(total_temp)\n",
    "         \n",
    "      TC_relation_plus.append(temp_TC_relation_plus)\n",
    "      \n",
    "      # 세부 설명 나오기\n",
    "      driver.find_element_by_class_name('btn_close').click()\n",
    "      time.sleep(1)\n",
    "\n",
    "      # 검색어 초기화 \n",
    "      driver.find_element_by_class_name('btn_reset').click()\n",
    "      time.sleep(1)\n",
    "   \n",
    "   except:\n",
    "      print('error: 팀 컬러 선택 & 상세 정보 클릭')\n",
    "      break\n",
    "      \n",
    "             \n",
    "# dict로 변형 & 데이터 프레임화\n",
    "dict_temp = {  '팀 컬러': [val for val in teamcolor_relation],\n",
    "               '시즌 & 이름': [val for val in TC_relation_plus],             \n",
    "}\n",
    "columns = ['팀 컬러','시즌 & 이름']\n",
    "\n",
    "\n",
    "df_TC_relation_plus = pd.DataFrame(data = dict_temp, columns=columns)\n",
    "   \n"
   ]
  },
  {
   "cell_type": "code",
   "execution_count": 43,
   "metadata": {},
   "outputs": [
    {
     "data": {
      "text/html": [
       "<div>\n",
       "<style scoped>\n",
       "    .dataframe tbody tr th:only-of-type {\n",
       "        vertical-align: middle;\n",
       "    }\n",
       "\n",
       "    .dataframe tbody tr th {\n",
       "        vertical-align: top;\n",
       "    }\n",
       "\n",
       "    .dataframe thead th {\n",
       "        text-align: right;\n",
       "    }\n",
       "</style>\n",
       "<table border=\"1\" class=\"dataframe\">\n",
       "  <thead>\n",
       "    <tr style=\"text-align: right;\">\n",
       "      <th></th>\n",
       "      <th>팀 컬러</th>\n",
       "      <th>시즌 &amp; 이름</th>\n",
       "    </tr>\n",
       "  </thead>\n",
       "  <tbody>\n",
       "    <tr>\n",
       "      <th>0</th>\n",
       "      <td>01-03 성남FC 리그3연패 베스트</td>\n",
       "      <td>[TKL 김도훈, TKL 김상식, TKL 윤정환, TKL 김영철, TKL 이기형, ...</td>\n",
       "    </tr>\n",
       "    <tr>\n",
       "      <th>1</th>\n",
       "      <td>02 수원삼성 더블</td>\n",
       "      <td>[BWC 이운재, CAP 이운재, TKL 김두현, TKL 이운재, TKL 서정원, ...</td>\n",
       "    </tr>\n",
       "    <tr>\n",
       "      <th>2</th>\n",
       "      <td>09 포항 스틸러스 더블</td>\n",
       "      <td>[TKL 최효진, 20KLB 김광석, TKL 김기동, TKL 김광석, TKL 황지수...</td>\n",
       "    </tr>\n",
       "    <tr>\n",
       "      <th>3</th>\n",
       "      <td>10 FC서울 더블</td>\n",
       "      <td>[TKL 데얀, 21KLB 김태환, TKL 정조국, TKL 최효진, TKL 고요한,...</td>\n",
       "    </tr>\n",
       "    <tr>\n",
       "      <th>4</th>\n",
       "      <td>13 포항 스틸러스 더블</td>\n",
       "      <td>[21KLB 신진호, 20KLB 김광석, TKL 김광석, TKL 김승대, TKL 황...</td>\n",
       "    </tr>\n",
       "    <tr>\n",
       "      <th>...</th>\n",
       "      <td>...</td>\n",
       "      <td>...</td>\n",
       "    </tr>\n",
       "    <tr>\n",
       "      <th>201</th>\n",
       "      <td>푸거 코리안 듀오</td>\n",
       "      <td>[2012KH 구자철, 2012KH 지동원, TKL 지동원, LH 지동원, 2019...</td>\n",
       "    </tr>\n",
       "    <tr>\n",
       "      <th>202</th>\n",
       "      <td>프랑스 1기 황금세대</td>\n",
       "      <td>[ICON 지네딘 지단, BWC 지네딘 지단, RMCF 지네딘 지단, ICON 티에...</td>\n",
       "    </tr>\n",
       "    <tr>\n",
       "      <th>203</th>\n",
       "      <td>프랑스 2기 황금세대</td>\n",
       "      <td>[22TOTY 킬리안 음바페, 22TOTS 킬리안 음바페, BWC 앙투안 그리즈만,...</td>\n",
       "    </tr>\n",
       "    <tr>\n",
       "      <th>204</th>\n",
       "      <td>프랑스 듀오</td>\n",
       "      <td>[ICON 파트리크 비에이라, BWC 파트리크 비에이라, ICON 클로드 마켈렐레,...</td>\n",
       "    </tr>\n",
       "    <tr>\n",
       "      <th>205</th>\n",
       "      <td>프랑스 형제</td>\n",
       "      <td>[22TOTS 테오 에르난데스, BWC 뤼카 에르난데스, 22TOTN 테오 에르난데...</td>\n",
       "    </tr>\n",
       "  </tbody>\n",
       "</table>\n",
       "<p>206 rows × 2 columns</p>\n",
       "</div>"
      ],
      "text/plain": [
       "                     팀 컬러                                            시즌 & 이름\n",
       "0    01-03 성남FC 리그3연패 베스트  [TKL 김도훈, TKL 김상식, TKL 윤정환, TKL 김영철, TKL 이기형, ...\n",
       "1              02 수원삼성 더블  [BWC 이운재, CAP 이운재, TKL 김두현, TKL 이운재, TKL 서정원, ...\n",
       "2           09 포항 스틸러스 더블  [TKL 최효진, 20KLB 김광석, TKL 김기동, TKL 김광석, TKL 황지수...\n",
       "3              10 FC서울 더블  [TKL 데얀, 21KLB 김태환, TKL 정조국, TKL 최효진, TKL 고요한,...\n",
       "4           13 포항 스틸러스 더블  [21KLB 신진호, 20KLB 김광석, TKL 김광석, TKL 김승대, TKL 황...\n",
       "..                    ...                                                ...\n",
       "201             푸거 코리안 듀오  [2012KH 구자철, 2012KH 지동원, TKL 지동원, LH 지동원, 2019...\n",
       "202           프랑스 1기 황금세대  [ICON 지네딘 지단, BWC 지네딘 지단, RMCF 지네딘 지단, ICON 티에...\n",
       "203           프랑스 2기 황금세대  [22TOTY 킬리안 음바페, 22TOTS 킬리안 음바페, BWC 앙투안 그리즈만,...\n",
       "204                프랑스 듀오  [ICON 파트리크 비에이라, BWC 파트리크 비에이라, ICON 클로드 마켈렐레,...\n",
       "205                프랑스 형제  [22TOTS 테오 에르난데스, BWC 뤼카 에르난데스, 22TOTN 테오 에르난데...\n",
       "\n",
       "[206 rows x 2 columns]"
      ]
     },
     "execution_count": 43,
     "metadata": {},
     "output_type": "execute_result"
    }
   ],
   "source": [
    "# 결과 확인\n",
    "df_TC_relation_plus"
   ]
  },
  {
   "cell_type": "code",
   "execution_count": 8,
   "metadata": {},
   "outputs": [],
   "source": [
    "# csv 파일 불러오기\n",
    "df_관계_팀_컬러 = pd.read_csv('./data/team_color_crawling/관계팀컬러.csv')\n",
    "\n",
    "# # 관계 팀 컬러 적용 선수 목록 추가\n",
    "# df_관계_팀_컬러_plus = pd.merge(df_관계_팀_컬러, df_TC_relation_plus, on = '팀 컬러', how = 'left')\n",
    "# df_관계_팀_컬러_plus\n",
    "\n",
    "# # csv 파일로 저장\n",
    "# df_관계_팀_컬러_plus.to_csv('관계팀컬러.csv', encoding='utf-8-sig', index = False)"
   ]
  }
 ],
 "metadata": {
  "colab": {
   "authorship_tag": "ABX9TyNUiWwW4S73kUrvO92un0zC",
   "collapsed_sections": [],
   "provenance": []
  },
  "kernelspec": {
   "display_name": "Python 3.8.13 ('dl')",
   "language": "python",
   "name": "python3"
  },
  "language_info": {
   "codemirror_mode": {
    "name": "ipython",
    "version": 3
   },
   "file_extension": ".py",
   "mimetype": "text/x-python",
   "name": "python",
   "nbconvert_exporter": "python",
   "pygments_lexer": "ipython3",
   "version": "3.8.13"
  },
  "vscode": {
   "interpreter": {
    "hash": "8890d967a3cc38373f9889d35378a8bac40ddfa5895fd80ec8888f1cccb79c48"
   }
  }
 },
 "nbformat": 4,
 "nbformat_minor": 1
}
